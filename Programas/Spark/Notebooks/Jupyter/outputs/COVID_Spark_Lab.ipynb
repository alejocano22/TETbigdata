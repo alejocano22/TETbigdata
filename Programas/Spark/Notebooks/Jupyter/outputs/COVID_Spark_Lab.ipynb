{
 "cells": [
  {
   "cell_type": "markdown",
   "metadata": {},
   "source": [
    "# Laboratorio 04 - COVID"
   ]
  },
  {
   "cell_type": "markdown",
   "metadata": {},
   "source": [
    "## Carga de datos csv en spark desde un bucket S3."
   ]
  },
  {
   "cell_type": "code",
   "execution_count": 4,
   "metadata": {},
   "outputs": [
    {
     "data": {
      "application/vnd.jupyter.widget-view+json": {
       "model_id": "01eb4ce6241e4b0283ecf0b42591765f",
       "version_major": 2,
       "version_minor": 0
      },
      "text/plain": [
       "VBox()"
      ]
     },
     "metadata": {},
     "output_type": "display_data"
    },
    {
     "data": {
      "application/vnd.jupyter.widget-view+json": {
       "model_id": "",
       "version_major": 2,
       "version_minor": 0
      },
      "text/plain": [
       "FloatProgress(value=0.0, bar_style='info', description='Progress:', layout=Layout(height='25px', width='50%'),…"
      ]
     },
     "metadata": {},
     "output_type": "display_data"
    }
   ],
   "source": [
    "from pyspark.sql import SparkSession\n",
    "\n",
    "spark=SparkSession.builder.appName('covid_lab').getOrCreate()\n",
    "data=spark.read.csv('s3://acanomdatasets/covid/Casos_positivos_de_COVID-19_en_Colombia.csv',inferSchema=True,header=True)"
   ]
  },
  {
   "cell_type": "code",
   "execution_count": 5,
   "metadata": {},
   "outputs": [
    {
     "data": {
      "application/vnd.jupyter.widget-view+json": {
       "model_id": "40adc755ebae415a89c92fb2e588d673",
       "version_major": 2,
       "version_minor": 0
      },
      "text/plain": [
       "VBox()"
      ]
     },
     "metadata": {},
     "output_type": "display_data"
    },
    {
     "data": {
      "application/vnd.jupyter.widget-view+json": {
       "model_id": "",
       "version_major": 2,
       "version_minor": 0
      },
      "text/plain": [
       "FloatProgress(value=0.0, bar_style='info', description='Progress:', layout=Layout(height='25px', width='50%'),…"
      ]
     },
     "metadata": {},
     "output_type": "display_data"
    },
    {
     "name": "stdout",
     "output_type": "stream",
     "text": [
      "root\n",
      " |-- ID de caso: integer (nullable = true)\n",
      " |-- Fecha de notificación: timestamp (nullable = true)\n",
      " |-- Codigo DIVIPOLA: integer (nullable = true)\n",
      " |-- Ciudad de ubicación: string (nullable = true)\n",
      " |-- Departamento o Distrito : string (nullable = true)\n",
      " |-- atención: string (nullable = true)\n",
      " |-- Edad: integer (nullable = true)\n",
      " |-- Sexo: string (nullable = true)\n",
      " |-- Tipo: string (nullable = true)\n",
      " |-- Estado: string (nullable = true)\n",
      " |-- País de procedencia: string (nullable = true)\n",
      " |-- FIS: string (nullable = true)\n",
      " |-- Fecha de muerte: string (nullable = true)\n",
      " |-- Fecha diagnostico: timestamp (nullable = true)\n",
      " |-- Fecha recuperado: string (nullable = true)\n",
      " |-- fecha reporte web: timestamp (nullable = true)"
     ]
    }
   ],
   "source": [
    "data.printSchema()"
   ]
  },
  {
   "cell_type": "markdown",
   "metadata": {},
   "source": [
    "## borrar y crear algunas columnas\n",
    "- Columnas borradas: Codigo DIVIPOLA, fecha reporte web\n",
    "- Columnas creadas: Días entre notificación y diagnostico, y Menor de 18"
   ]
  },
  {
   "cell_type": "markdown",
   "metadata": {},
   "source": [
    "### Borrrar columnas"
   ]
  },
  {
   "cell_type": "code",
   "execution_count": 6,
   "metadata": {},
   "outputs": [
    {
     "data": {
      "application/vnd.jupyter.widget-view+json": {
       "model_id": "14e2a621a2434d23b6f6c3a6b2b5d8d3",
       "version_major": 2,
       "version_minor": 0
      },
      "text/plain": [
       "VBox()"
      ]
     },
     "metadata": {},
     "output_type": "display_data"
    },
    {
     "data": {
      "application/vnd.jupyter.widget-view+json": {
       "model_id": "",
       "version_major": 2,
       "version_minor": 0
      },
      "text/plain": [
       "FloatProgress(value=0.0, bar_style='info', description='Progress:', layout=Layout(height='25px', width='50%'),…"
      ]
     },
     "metadata": {},
     "output_type": "display_data"
    },
    {
     "name": "stdout",
     "output_type": "stream",
     "text": [
      "root\n",
      " |-- ID de caso: integer (nullable = true)\n",
      " |-- Fecha de notificación: timestamp (nullable = true)\n",
      " |-- Ciudad de ubicación: string (nullable = true)\n",
      " |-- Departamento o Distrito : string (nullable = true)\n",
      " |-- atención: string (nullable = true)\n",
      " |-- Edad: integer (nullable = true)\n",
      " |-- Sexo: string (nullable = true)\n",
      " |-- Tipo: string (nullable = true)\n",
      " |-- Estado: string (nullable = true)\n",
      " |-- País de procedencia: string (nullable = true)\n",
      " |-- FIS: string (nullable = true)\n",
      " |-- Fecha de muerte: string (nullable = true)\n",
      " |-- Fecha diagnostico: timestamp (nullable = true)\n",
      " |-- Fecha recuperado: string (nullable = true)"
     ]
    }
   ],
   "source": [
    "data2=data.drop('Codigo DIVIPOLA', 'fecha reporte web')\n",
    "data2.printSchema()"
   ]
  },
  {
   "cell_type": "markdown",
   "metadata": {},
   "source": [
    "### Crear columnas"
   ]
  },
  {
   "cell_type": "code",
   "execution_count": 7,
   "metadata": {},
   "outputs": [
    {
     "data": {
      "application/vnd.jupyter.widget-view+json": {
       "model_id": "f99e5075f8014333be085c2def6cbc02",
       "version_major": 2,
       "version_minor": 0
      },
      "text/plain": [
       "VBox()"
      ]
     },
     "metadata": {},
     "output_type": "display_data"
    },
    {
     "data": {
      "application/vnd.jupyter.widget-view+json": {
       "model_id": "",
       "version_major": 2,
       "version_minor": 0
      },
      "text/plain": [
       "FloatProgress(value=0.0, bar_style='info', description='Progress:', layout=Layout(height='25px', width='50%'),…"
      ]
     },
     "metadata": {},
     "output_type": "display_data"
    },
    {
     "name": "stdout",
     "output_type": "stream",
     "text": [
      "+---------------------+-------------------+-------------------------------------+\n",
      "|Fecha de notificación|  Fecha diagnostico|Días entre notificación y diagnostico|\n",
      "+---------------------+-------------------+-------------------------------------+\n",
      "|  2020-03-02 00:00:00|2020-03-06 00:00:00|                                  4.0|\n",
      "|  2020-03-06 00:00:00|2020-03-09 00:00:00|                                  3.0|\n",
      "|  2020-03-07 00:00:00|2020-03-09 00:00:00|                                  2.0|\n",
      "|  2020-03-09 00:00:00|2020-03-11 00:00:00|                                  2.0|\n",
      "|  2020-03-09 00:00:00|2020-03-11 00:00:00|                                  2.0|\n",
      "|  2020-03-10 00:00:00|2020-03-11 00:00:00|                                  1.0|\n",
      "|  2020-03-08 00:00:00|2020-03-11 00:00:00|                                  3.0|\n",
      "|  2020-03-09 00:00:00|2020-03-11 00:00:00|                                  2.0|\n",
      "|  2020-03-08 00:00:00|2020-03-11 00:00:00|                                  3.0|\n",
      "|  2020-03-12 00:00:00|2020-03-12 00:00:00|                                  0.0|\n",
      "+---------------------+-------------------+-------------------------------------+\n",
      "only showing top 10 rows\n",
      "\n",
      "7285"
     ]
    }
   ],
   "source": [
    "# días entre fecha de notificación (SIVIGILA) y fecha de diagnostico.\n",
    "data2 = data2.withColumn(\n",
    "    \"Días entre notificación y diagnostico\", \n",
    "    (data2[\"Fecha diagnostico\"].cast(\"long\") - data2[\"Fecha de notificación\"].cast(\"long\"))/86400\n",
    ")\n",
    "data2.select(\"Fecha de notificación\", \"Fecha diagnostico\", \"Días entre notificación y diagnostico\").show(10)\n",
    "data2.select(\"Fecha de notificación\", \"Fecha diagnostico\", \"Días entre notificación y diagnostico\").count()"
   ]
  },
  {
   "cell_type": "code",
   "execution_count": 8,
   "metadata": {},
   "outputs": [
    {
     "data": {
      "application/vnd.jupyter.widget-view+json": {
       "model_id": "3a9423dd838148fa8559010964cf3bfd",
       "version_major": 2,
       "version_minor": 0
      },
      "text/plain": [
       "VBox()"
      ]
     },
     "metadata": {},
     "output_type": "display_data"
    },
    {
     "data": {
      "application/vnd.jupyter.widget-view+json": {
       "model_id": "",
       "version_major": 2,
       "version_minor": 0
      },
      "text/plain": [
       "FloatProgress(value=0.0, bar_style='info', description='Progress:', layout=Layout(height='25px', width='50%'),…"
      ]
     },
     "metadata": {},
     "output_type": "display_data"
    },
    {
     "name": "stdout",
     "output_type": "stream",
     "text": [
      "+----+-----------+\n",
      "|Edad|Menor de 18|\n",
      "+----+-----------+\n",
      "|   9|       true|\n",
      "|  16|       true|\n",
      "|  17|       true|\n",
      "|  15|       true|\n",
      "|   9|       true|\n",
      "|  15|       true|\n",
      "|   3|       true|\n",
      "|   9|       true|\n",
      "|  16|       true|\n",
      "|  16|       true|\n",
      "+----+-----------+\n",
      "only showing top 10 rows\n",
      "\n",
      "553"
     ]
    }
   ],
   "source": [
    "# Menores de 18 años\n",
    "data2 = data2.withColumn(\"Menor de 18\", data2[\"Edad\"] < 18)\n",
    "data2.select(\"Edad\", \"Menor de 18\").filter(data2[\"Menor de 18\"]==True).show(10)\n",
    "data2.select(\"Edad\", \"Menor de 18\").filter(data2[\"Menor de 18\"]==True).count()"
   ]
  },
  {
   "cell_type": "code",
   "execution_count": 9,
   "metadata": {},
   "outputs": [
    {
     "data": {
      "application/vnd.jupyter.widget-view+json": {
       "model_id": "9e70aac4df124bc6984a821556dd0cd0",
       "version_major": 2,
       "version_minor": 0
      },
      "text/plain": [
       "VBox()"
      ]
     },
     "metadata": {},
     "output_type": "display_data"
    },
    {
     "data": {
      "application/vnd.jupyter.widget-view+json": {
       "model_id": "",
       "version_major": 2,
       "version_minor": 0
      },
      "text/plain": [
       "FloatProgress(value=0.0, bar_style='info', description='Progress:', layout=Layout(height='25px', width='50%'),…"
      ]
     },
     "metadata": {},
     "output_type": "display_data"
    },
    {
     "name": "stdout",
     "output_type": "stream",
     "text": [
      "root\n",
      " |-- ID de caso: integer (nullable = true)\n",
      " |-- Fecha de notificación: timestamp (nullable = true)\n",
      " |-- Ciudad de ubicación: string (nullable = true)\n",
      " |-- Departamento o Distrito : string (nullable = true)\n",
      " |-- atención: string (nullable = true)\n",
      " |-- Edad: integer (nullable = true)\n",
      " |-- Sexo: string (nullable = true)\n",
      " |-- Tipo: string (nullable = true)\n",
      " |-- Estado: string (nullable = true)\n",
      " |-- País de procedencia: string (nullable = true)\n",
      " |-- FIS: string (nullable = true)\n",
      " |-- Fecha de muerte: string (nullable = true)\n",
      " |-- Fecha diagnostico: timestamp (nullable = true)\n",
      " |-- Fecha recuperado: string (nullable = true)\n",
      " |-- Días entre notificación y diagnostico: double (nullable = true)\n",
      " |-- Menor de 18: boolean (nullable = true)"
     ]
    }
   ],
   "source": [
    "data2.printSchema()"
   ]
  },
  {
   "cell_type": "markdown",
   "metadata": {},
   "source": [
    "## Realizar filtrados de datos por alguna información que le parezca interesante\n",
    "- Filtro 1: Personas en Antioquia con el virus importado\n",
    "- Filtro 2: Menores de 18 años fallecidos\n",
    "- Filtro 3: Personas en Antioquia recuperados"
   ]
  },
  {
   "cell_type": "code",
   "execution_count": 11,
   "metadata": {},
   "outputs": [
    {
     "data": {
      "application/vnd.jupyter.widget-view+json": {
       "model_id": "0705ceb369c1480f84beb33559dc7505",
       "version_major": 2,
       "version_minor": 0
      },
      "text/plain": [
       "VBox()"
      ]
     },
     "metadata": {},
     "output_type": "display_data"
    },
    {
     "data": {
      "application/vnd.jupyter.widget-view+json": {
       "model_id": "",
       "version_major": 2,
       "version_minor": 0
      },
      "text/plain": [
       "FloatProgress(value=0.0, bar_style='info', description='Progress:', layout=Layout(height='25px', width='50%'),…"
      ]
     },
     "metadata": {},
     "output_type": "display_data"
    },
    {
     "name": "stdout",
     "output_type": "stream",
     "text": [
      "+-------------------+----+----+---------+------+\n",
      "|Ciudad de ubicación|Edad|Sexo|     Tipo|Estado|\n",
      "+-------------------+----+----+---------+------+\n",
      "|             Itagüí|   9|   F|Importado|  Leve|\n",
      "|           Medellín|  15|   F|Importado|  Leve|\n",
      "|           Envigado|  20|   M|Importado|  Leve|\n",
      "|           Sabaneta|  21|   M|Importado|  Leve|\n",
      "|           Medellín|  21|   F|Importado|  Leve|\n",
      "|           Medellín|  21|   F|Importado|  Leve|\n",
      "|           Medellín|  21|   M|Importado|  Leve|\n",
      "|           Envigado|  21|   F|Importado|  Leve|\n",
      "|           Medellín|  22|   F|Importado|  Leve|\n",
      "|             Retiro|  23|   F|Importado|  Leve|\n",
      "|           Medellín|  23|   F|Importado|  Leve|\n",
      "|           Medellín|  24|   F|Importado|  Leve|\n",
      "|           Medellín|  24|   F|Importado|  Leve|\n",
      "|             Guarne|  25|   F|Importado|  Leve|\n",
      "|           Medellín|  25|   M|Importado|  Leve|\n",
      "|            Cocorná|  25|   M|Importado|  Leve|\n",
      "|           Envigado|  26|   M|Importado|  Leve|\n",
      "|           Medellín|  26|   M|Importado|  Leve|\n",
      "|              Bello|  26|   M|Importado|  Leve|\n",
      "|           Medellín|  26|   M|Importado|  Leve|\n",
      "+-------------------+----+----+---------+------+\n",
      "only showing top 20 rows\n",
      "\n",
      "123"
     ]
    }
   ],
   "source": [
    "filtro1 = data2.filter(\n",
    "   (data2[\"Departamento o Distrito \"] == \"Antioquia\") & (data2[\"Tipo\"] == \"Importado\")\n",
    ").select(\n",
    "    \"Ciudad de ubicación\", \"Edad\", \"Sexo\",  \"Tipo\", \"Estado\"\n",
    ").orderBy(\"Edad\")\n",
    "filtro1.show()\n",
    "filtro1.count()"
   ]
  },
  {
   "cell_type": "code",
   "execution_count": 12,
   "metadata": {},
   "outputs": [
    {
     "data": {
      "application/vnd.jupyter.widget-view+json": {
       "model_id": "fa5d06f76d3f445287de62b0efa71b40",
       "version_major": 2,
       "version_minor": 0
      },
      "text/plain": [
       "VBox()"
      ]
     },
     "metadata": {},
     "output_type": "display_data"
    },
    {
     "data": {
      "application/vnd.jupyter.widget-view+json": {
       "model_id": "",
       "version_major": 2,
       "version_minor": 0
      },
      "text/plain": [
       "FloatProgress(value=0.0, bar_style='info', description='Progress:', layout=Layout(height='25px', width='50%'),…"
      ]
     },
     "metadata": {},
     "output_type": "display_data"
    },
    {
     "name": "stdout",
     "output_type": "stream",
     "text": [
      "+-------------------+----+-----------+----+-----------+---------+\n",
      "|Ciudad de ubicación|Edad|Menor de 18|Sexo|       Tipo|   Estado|\n",
      "+-------------------+----+-----------+----+-----------+---------+\n",
      "|             Samacá|   1|       true|   F| En estudio|Fallecido|\n",
      "|       Cundinamarca|   1|       true|   M| En estudio|Fallecido|\n",
      "|            Popayán|   3|       true|   F|Relacionado|Fallecido|\n",
      "+-------------------+----+-----------+----+-----------+---------+\n",
      "\n",
      "3"
     ]
    }
   ],
   "source": [
    "filtro2 = data2.filter(\n",
    "   ((data2[\"Menor de 18\"] == True) & (data2[\"Estado\"]==\"Fallecido\"))\n",
    ").select(\n",
    "    \"Ciudad de ubicación\", \"Edad\", \"Menor de 18\", \"Sexo\",  \"Tipo\", \"Estado\"\n",
    ").orderBy(\"Edad\")\n",
    "filtro2.show()\n",
    "filtro2.count()"
   ]
  },
  {
   "cell_type": "code",
   "execution_count": 13,
   "metadata": {},
   "outputs": [
    {
     "data": {
      "application/vnd.jupyter.widget-view+json": {
       "model_id": "ea66008259574bee9da32f0e72d6fdcc",
       "version_major": 2,
       "version_minor": 0
      },
      "text/plain": [
       "VBox()"
      ]
     },
     "metadata": {},
     "output_type": "display_data"
    },
    {
     "data": {
      "application/vnd.jupyter.widget-view+json": {
       "model_id": "",
       "version_major": 2,
       "version_minor": 0
      },
      "text/plain": [
       "FloatProgress(value=0.0, bar_style='info', description='Progress:', layout=Layout(height='25px', width='50%'),…"
      ]
     },
     "metadata": {},
     "output_type": "display_data"
    },
    {
     "name": "stdout",
     "output_type": "stream",
     "text": [
      "+-------------------+----+-----------+----+----------+\n",
      "|Ciudad de ubicación|Edad|Menor de 18|Sexo|  atención|\n",
      "+-------------------+----+-----------+----+----------+\n",
      "|           Medellín|   1|       true|   M|Recuperado|\n",
      "|              Bello|   4|       true|   M|Recuperado|\n",
      "|           Medellín|   5|       true|   F|Recuperado|\n",
      "|           Medellín|   5|       true|   M|Recuperado|\n",
      "|             Sonsón|   5|       true|   M|Recuperado|\n",
      "|           Medellín|   8|       true|   F|Recuperado|\n",
      "|             Itagüí|   9|       true|   F|Recuperado|\n",
      "|           Medellín|  12|       true|   M|Recuperado|\n",
      "|           Frontino|  15|       true|   M|Recuperado|\n",
      "|           Medellín|  15|       true|   F|Recuperado|\n",
      "|           Envigado|  18|      false|   F|Recuperado|\n",
      "|           Medellín|  18|      false|   F|Recuperado|\n",
      "|           Medellín|  19|      false|   F|Recuperado|\n",
      "|           Medellín|  20|      false|   F|Recuperado|\n",
      "|           Envigado|  20|      false|   M|Recuperado|\n",
      "|           Medellín|  20|      false|   M|Recuperado|\n",
      "|           Medellín|  21|      false|   M|Recuperado|\n",
      "|           Medellín|  21|      false|   F|Recuperado|\n",
      "|           Medellín|  21|      false|   F|Recuperado|\n",
      "|           Sabaneta|  21|      false|   M|Recuperado|\n",
      "+-------------------+----+-----------+----+----------+\n",
      "only showing top 20 rows\n",
      "\n",
      "192"
     ]
    }
   ],
   "source": [
    "filtro3 = data2.filter(\n",
    "   ((data2[\"Departamento o Distrito \"] == \"Antioquia\") & (data2[\"atención\"]==\"Recuperado\"))\n",
    ").select(\n",
    "    \"Ciudad de ubicación\", \"Edad\", \"Menor de 18\", \"Sexo\", \"atención\"\n",
    ").orderBy(\"Edad\")\n",
    "filtro3.show()\n",
    "filtro3.count()"
   ]
  },
  {
   "cell_type": "markdown",
   "metadata": {},
   "source": [
    "## Realizar alguna agrupación y consulta de datos categorica, por ejemplo número de casos por región o por sexo/genero.\n",
    "- Grupo 1: Personas agrupadas por país de procedencia Fallecidos\n",
    "- Grupo 2: Personas agrupadas por Ciudad de ubicación en el departamento de Antioquia con su tipo de atención"
   ]
  },
  {
   "cell_type": "code",
   "execution_count": 14,
   "metadata": {},
   "outputs": [
    {
     "data": {
      "application/vnd.jupyter.widget-view+json": {
       "model_id": "f6017a2820e642c6b51bc906b4c6dc7d",
       "version_major": 2,
       "version_minor": 0
      },
      "text/plain": [
       "VBox()"
      ]
     },
     "metadata": {},
     "output_type": "display_data"
    },
    {
     "data": {
      "application/vnd.jupyter.widget-view+json": {
       "model_id": "",
       "version_major": 2,
       "version_minor": 0
      },
      "text/plain": [
       "FloatProgress(value=0.0, bar_style='info', description='Progress:', layout=Layout(height='25px', width='50%'),…"
      ]
     },
     "metadata": {},
     "output_type": "display_data"
    },
    {
     "name": "stdout",
     "output_type": "stream",
     "text": [
      "+--------------------+---------+-----+\n",
      "| País de procedencia| atención|count|\n",
      "+--------------------+---------+-----+\n",
      "|            Colombia|Fallecido|  309|\n",
      "|Estados Unidos de...|Fallecido|    4|\n",
      "|              España|Fallecido|    4|\n",
      "|             Ecuador|Fallecido|    1|\n",
      "|              Panamá|Fallecido|    1|\n",
      "|              Egipto|Fallecido|    1|\n",
      "|           Venezuela|Fallecido|    1|\n",
      "|            Alemania|Fallecido|    1|\n",
      "|              Brasil|Fallecido|    1|\n",
      "|             Turquía|Fallecido|    1|\n",
      "+--------------------+---------+-----+"
     ]
    }
   ],
   "source": [
    "grupo1 = data2.filter(data2[\"atención\"] == \"Fallecido\").select(\n",
    "    \"atención\", \"estado\", \"País de procedencia\"\n",
    ").groupBy('País de procedencia', \"atención\").count().orderBy('count', ascending=False)\n",
    "grupo1.show()"
   ]
  },
  {
   "cell_type": "code",
   "execution_count": 15,
   "metadata": {},
   "outputs": [
    {
     "data": {
      "application/vnd.jupyter.widget-view+json": {
       "model_id": "150d935b5a9d4fb68bc3751b9570783f",
       "version_major": 2,
       "version_minor": 0
      },
      "text/plain": [
       "VBox()"
      ]
     },
     "metadata": {},
     "output_type": "display_data"
    },
    {
     "data": {
      "application/vnd.jupyter.widget-view+json": {
       "model_id": "",
       "version_major": 2,
       "version_minor": 0
      },
      "text/plain": [
       "FloatProgress(value=0.0, bar_style='info', description='Progress:', layout=Layout(height='25px', width='50%'),…"
      ]
     },
     "metadata": {},
     "output_type": "display_data"
    },
    {
     "name": "stdout",
     "output_type": "stream",
     "text": [
      "+-------------------+------------+-----+\n",
      "|Ciudad de ubicación|    atención|count|\n",
      "+-------------------+------------+-----+\n",
      "|           Medellín|        Casa|  183|\n",
      "|           Medellín|  Recuperado|  111|\n",
      "|              Bello|        Casa|   30|\n",
      "|              Bello|  Recuperado|   19|\n",
      "|           Envigado|  Recuperado|   17|\n",
      "|           Envigado|        Casa|   11|\n",
      "|           Medellín|Hospital UCI|   10|\n",
      "|           Rionegro|  Recuperado|    9|\n",
      "|           Sabaneta|  Recuperado|    7|\n",
      "|             Itagüí|  Recuperado|    7|\n",
      "|             Itagüí|        Casa|    7|\n",
      "|         Copacabana|        Casa|    7|\n",
      "|        La Estrella|        Casa|    5|\n",
      "|        La Estrella|  Recuperado|    4|\n",
      "|           Medellín|   Fallecido|    3|\n",
      "|           Medellín|    Hospital|    3|\n",
      "|             Caldas|  Recuperado|    3|\n",
      "|         Montebello|        Casa|    3|\n",
      "|           Apartadó|        Casa|    2|\n",
      "|           Apartadó|  Recuperado|    2|\n",
      "+-------------------+------------+-----+\n",
      "only showing top 20 rows"
     ]
    }
   ],
   "source": [
    "grupo2 = data2.filter(data2[\"Departamento o Distrito \"] == \"Antioquia\").select(\n",
    "    \"atención\", 'Ciudad de ubicación', 'Departamento o Distrito '\n",
    ").groupBy('Ciudad de ubicación', \"atención\").count().orderBy('count', ascending=False)\n",
    "grupo2.show()"
   ]
  },
  {
   "cell_type": "markdown",
   "metadata": {},
   "source": [
    "## Grave los resultados en un bucket público en S3\n",
    "Bucket: s3://acanomoutputs/covid"
   ]
  },
  {
   "cell_type": "code",
   "execution_count": 21,
   "metadata": {},
   "outputs": [
    {
     "data": {
      "application/vnd.jupyter.widget-view+json": {
       "model_id": "145cb7303dcc444698686bbc9a55654b",
       "version_major": 2,
       "version_minor": 0
      },
      "text/plain": [
       "VBox()"
      ]
     },
     "metadata": {},
     "output_type": "display_data"
    },
    {
     "data": {
      "application/vnd.jupyter.widget-view+json": {
       "model_id": "",
       "version_major": 2,
       "version_minor": 0
      },
      "text/plain": [
       "FloatProgress(value=0.0, bar_style='info', description='Progress:', layout=Layout(height='25px', width='50%'),…"
      ]
     },
     "metadata": {},
     "output_type": "display_data"
    }
   ],
   "source": [
    "url = \"s3://acanomoutputs/covid\"\n",
    "\n",
    "data2.coalesce(1).write.format(\"csv\").option(\"header\",\"true\").save(url + \"/data2\")\n",
    "filtro1.coalesce(1).write.format(\"csv\").option(\"header\",\"true\").save(url + \"/filtro1\")\n",
    "filtro2.coalesce(1).write.format(\"csv\").option(\"header\",\"true\").save(url + \"/filter2\")\n",
    "filtro3.coalesce(1).write.format(\"csv\").option(\"header\",\"true\").save(url + \"/filter3\")\n",
    "grupo1.coalesce(1).write.format(\"csv\").option(\"header\",\"true\").save(url + \"/grupo1\")\n",
    "grupo2.coalesce(1).write.format(\"csv\").option(\"header\",\"true\").save(url + \"/grupo2\")"
   ]
  },
  {
   "cell_type": "markdown",
   "metadata": {},
   "source": [
    "# Conclusiones"
   ]
  },
  {
   "cell_type": "markdown",
   "metadata": {},
   "source": [
    "Se observa que hay un gran número de personas en Antioquia (123) que importaron el virus de otros paises. 192 personas se han recuperado en Antioquia. Han muerto 3 menores de edad en Colombia. Por otra parte, basados en los paises de donde se ha importado el virus a Colombia, Estados Unidos y España presentan el mayor número de muertes. Medellín y Bello lideran el mayor número de casos en Antioquia."
   ]
  },
  {
   "cell_type": "code",
   "execution_count": null,
   "metadata": {},
   "outputs": [],
   "source": []
  }
 ],
 "metadata": {
  "kernelspec": {
   "display_name": "PySpark",
   "language": "",
   "name": "pysparkkernel"
  },
  "language_info": {
   "codemirror_mode": {
    "name": "python",
    "version": 2
   },
   "mimetype": "text/x-python",
   "name": "pyspark",
   "pygments_lexer": "python2"
  }
 },
 "nbformat": 4,
 "nbformat_minor": 4
}
