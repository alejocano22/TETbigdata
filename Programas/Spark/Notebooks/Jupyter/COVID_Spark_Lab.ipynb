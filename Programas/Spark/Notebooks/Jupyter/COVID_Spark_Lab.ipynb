{
 "cells": [
  {
   "cell_type": "markdown",
   "metadata": {},
   "source": [
    "# Laboratorio 04 - COVID"
   ]
  },
  {
   "cell_type": "markdown",
   "metadata": {},
   "source": [
    "## Carga de datos csv en spark desde un bucket S3."
   ]
  },
  {
   "cell_type": "code",
   "execution_count": null,
   "metadata": {},
   "outputs": [],
   "source": [
    "from pyspark.sql import SparkSession\n",
    "\n",
    "spark=SparkSession.builder.appName('covid_lab').getOrCreate()\n",
    "data=spark.read.csv('s3://acanomdatasets/covid/Casos_positivos_de_COVID-19_en_Colombia.csv',inferSchema=True,header=True)"
   ]
  },
  {
   "cell_type": "code",
   "execution_count": null,
   "metadata": {},
   "outputs": [],
   "source": [
    "data.printSchema()"
   ]
  },
  {
   "cell_type": "markdown",
   "metadata": {},
   "source": [
    "## borrar y crear algunas columnas\n",
    "- Columnas borradas: Codigo DIVIPOLA, fecha reporte web\n",
    "- Columnas creadas: Días entre notificación y diagnostico, y Menor de 18"
   ]
  },
  {
   "cell_type": "markdown",
   "metadata": {},
   "source": [
    "### Borrrar columnas"
   ]
  },
  {
   "cell_type": "code",
   "execution_count": null,
   "metadata": {},
   "outputs": [],
   "source": [
    "data2=data.drop('Codigo DIVIPOLA', 'fecha reporte web')\n",
    "data2.printSchema()"
   ]
  },
  {
   "cell_type": "markdown",
   "metadata": {},
   "source": [
    "### Crear columnas"
   ]
  },
  {
   "cell_type": "code",
   "execution_count": null,
   "metadata": {},
   "outputs": [],
   "source": [
    "# días entre fecha de notificación (SIVIGILA) y fecha de diagnostico.\n",
    "data2 = data2.withColumn(\n",
    "    \"Días entre notificación y diagnostico\", \n",
    "    (data2[\"Fecha diagnostico\"].cast(\"long\") - data2[\"Fecha de notificación\"].cast(\"long\"))/86400\n",
    ")\n",
    "data2.select(\"Fecha de notificación\", \"Fecha diagnostico\", \"Días entre notificación y diagnostico\").show(10)\n",
    "data2.select(\"Fecha de notificación\", \"Fecha diagnostico\", \"Días entre notificación y diagnostico\").count()"
   ]
  },
  {
   "cell_type": "code",
   "execution_count": null,
   "metadata": {},
   "outputs": [],
   "source": [
    "# Menores de 18 años\n",
    "data2 = data2.withColumn(\"Menor de 18\", data2[\"Edad\"] < 18)\n",
    "data2.select(\"Edad\", \"Menor de 18\").filter(data2[\"Menor de 18\"]==True).show(10)\n",
    "data2.select(\"Edad\", \"Menor de 18\").filter(data2[\"Menor de 18\"]==True).count()"
   ]
  },
  {
   "cell_type": "code",
   "execution_count": null,
   "metadata": {},
   "outputs": [],
   "source": [
    "data2.printSchema()"
   ]
  },
  {
   "cell_type": "markdown",
   "metadata": {},
   "source": [
    "## Realizar filtrados de datos por alguna información que le parezca interesante\n",
    "- Filtro 1: Personas en Antioquia con el virus importado\n",
    "- Filtro 2: Menores de 18 años fallecidos\n",
    "- Filtro 3: Personas en Antioquia recuperados"
   ]
  },
  {
   "cell_type": "code",
   "execution_count": null,
   "metadata": {},
   "outputs": [],
   "source": [
    "filtro1 = data2.filter(\n",
    "   (data2[\"Departamento o Distrito \"] == \"Antioquia\") & (data2[\"Tipo\"] == \"Importado\")\n",
    ").select(\n",
    "    \"Ciudad de ubicación\", \"Edad\", \"Sexo\",  \"Tipo\", \"Estado\"\n",
    ").orderBy(\"Edad\")\n",
    "filtro1.show()\n",
    "filtro1.count()"
   ]
  },
  {
   "cell_type": "code",
   "execution_count": null,
   "metadata": {},
   "outputs": [],
   "source": [
    "filtro2 = data2.filter(\n",
    "   ((data2[\"Menor de 18\"] == True) & (data2[\"Estado\"]==\"Fallecido\"))\n",
    ").select(\n",
    "    \"Ciudad de ubicación\", \"Edad\", \"Menor de 18\", \"Sexo\",  \"Tipo\", \"Estado\"\n",
    ").orderBy(\"Edad\")\n",
    "filtro2.show()\n",
    "filtro2.count()"
   ]
  },
  {
   "cell_type": "code",
   "execution_count": null,
   "metadata": {},
   "outputs": [],
   "source": [
    "filtro3 = data2.filter(\n",
    "   ((data2[\"Departamento o Distrito \"] == \"Antioquia\") & (data2[\"atención\"]==\"Recuperado\"))\n",
    ").select(\n",
    "    \"Ciudad de ubicación\", \"Edad\", \"Menor de 18\", \"Sexo\", \"atención\"\n",
    ").orderBy(\"Edad\")\n",
    "filtro3.show()\n",
    "filtro3.count()"
   ]
  },
  {
   "cell_type": "markdown",
   "metadata": {},
   "source": [
    "## Realizar alguna agrupación y consulta de datos categorica, por ejemplo número de casos por región o por sexo/genero.\n",
    "- Grupo 1: Personas agrupadas por país de procedencia Fallecidos\n",
    "- Grupo 2: Personas agrupadas por Ciudad de ubicación en el departamento de Antioquia con su tipo de atención"
   ]
  },
  {
   "cell_type": "code",
   "execution_count": null,
   "metadata": {},
   "outputs": [],
   "source": [
    "grupo1 = data2.filter(data2[\"atención\"] == \"Fallecido\").select(\n",
    "    \"atención\", \"estado\", \"País de procedencia\"\n",
    ").groupBy('País de procedencia', \"atención\").count().orderBy('count', ascending=False)\n",
    "grupo1.show()"
   ]
  },
  {
   "cell_type": "code",
   "execution_count": null,
   "metadata": {},
   "outputs": [],
   "source": [
    "grupo2 = data2.filter(data2[\"Departamento o Distrito \"] == \"Antioquia\").select(\n",
    "    \"atención\", 'Ciudad de ubicación', 'Departamento o Distrito '\n",
    ").groupBy('Ciudad de ubicación', \"atención\").count().orderBy('count', ascending=False)\n",
    "grupo2.show()"
   ]
  },
  {
   "cell_type": "markdown",
   "metadata": {},
   "source": [
    "## Grave los resultados en un bucket público en S3\n",
    "Bucket: s3://acanomoutputs/covid"
   ]
  },
  {
   "cell_type": "code",
   "execution_count": null,
   "metadata": {},
   "outputs": [],
   "source": [
    "url = \"s3://acanomoutputs/covid\"\n",
    "\n",
    "data2.coalesce(1).write.format(\"csv\").option(\"header\",\"true\").save(url + \"/data2\")\n",
    "filtro1.coalesce(1).write.format(\"csv\").option(\"header\",\"true\").save(url + \"/filtro1\")\n",
    "filtro2.coalesce(1).write.format(\"csv\").option(\"header\",\"true\").save(url + \"/filter2\")\n",
    "filtro3.coalesce(1).write.format(\"csv\").option(\"header\",\"true\").save(url + \"/filter3\")\n",
    "grupo1.coalesce(1).write.format(\"csv\").option(\"header\",\"true\").save(url + \"/grupo1\")\n",
    "grupo2.coalesce(1).write.format(\"csv\").option(\"header\",\"true\").save(url + \"/grupo2\")"
   ]
  },
  {
   "cell_type": "markdown",
   "metadata": {},
   "source": [
    "# Conclusiones"
   ]
  },
  {
   "cell_type": "markdown",
   "metadata": {},
   "source": [
    "Se observa que hay un gran número de personas en Antioquia (123) que importaron el virus de otros paises. 192 personas se han recuperado en Antioquia. Han muerto 3 menores de edad en Colombia. Por otra parte, basados en los paises de donde se ha importado el virus a Colombia, Estados Unidos y España presentan el mayor número de muertes. Medellín y Bello lideran el mayor número de casos en Antioquia."
   ]
  },
  {
   "cell_type": "code",
   "execution_count": null,
   "metadata": {},
   "outputs": [],
   "source": []
  }
 ],
 "metadata": {
  "kernelspec": {
   "display_name": "PySpark",
   "language": "",
   "name": "pysparkkernel"
  },
  "language_info": {
   "codemirror_mode": {
    "name": "python",
    "version": 2
   },
   "mimetype": "text/x-python",
   "name": "pyspark",
   "pygments_lexer": "python2"
  }
 },
 "nbformat": 4,
 "nbformat_minor": 4
}